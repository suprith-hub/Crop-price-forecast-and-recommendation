{
 "cells": [
  {
   "cell_type": "code",
   "execution_count": 1,
   "id": "2f12e752",
   "metadata": {
    "scrolled": true
   },
   "outputs": [
    {
     "name": "stderr",
     "output_type": "stream",
     "text": [
      "Fetching quote history for 'Apple2018-23'\n",
      "Fetching quote history for 'Ginger2018-23'\n",
      "Fetching quote history for 'Arecanut2018-23'\n"
     ]
    },
    {
     "name": "stdout",
     "output_type": "stream",
     "text": [
      "1366\n"
     ]
    },
    {
     "name": "stderr",
     "output_type": "stream",
     "text": [
      "Fetching quote history for 'Beans2018-23'\n",
      "Fetching quote history for 'Drumstick2018-23'\n",
      "Fetching quote history for 'Coconut2018-23'\n"
     ]
    }
   ],
   "source": [
    "import sys\n",
    "import calendar\n",
    "import numpy as np\n",
    "import pandas as pd\n",
    "import math\n",
    "symbols = [\"Apple2018-23\",\"Ginger2018-23\",\"Arecanut2018-23\",\"Beans2018-23\",\"Drumstick2018-23\",\"Coconut2018-23\"]\n",
    "\n",
    "quotes = []\n",
    "\n",
    "\n",
    "def date_trans(date_str):\n",
    "    if isinstance(date_str, str) and date_str.lower() != \"nan\":\n",
    "        i = date_str.split('-')\n",
    "        return '-'.join([i[2],d[i[1]],i[0]])\n",
    "\n",
    "d = dict(enumerate(calendar.month_abbr))\n",
    "d = {d[i]:str(i).zfill(2) for i in d if i>0}\n",
    "\n",
    "for symbol in symbols:\n",
    "    print(\"Fetching quote history for %r\" % symbol, file=sys.stderr)\n",
    "    url = (\n",
    "        \"{}.csv\"\n",
    "    )\n",
    "    quotes.append(pd.read_csv(url.format(symbol)))\n",
    "    quotes[-1].drop(['state_name','district_name','market_center_name', 'Variety',\n",
    "       'group_name'],axis=1, inplace=True)\n",
    "    quotes[-1]['date_arrival'] = quotes[-1]['date_arrival'].apply(date_trans)\n",
    "    quotes[-1].sort_values(by = \"date_arrival\")\n",
    "    quotes[-1] = quotes[-1].groupby('date_arrival').mean().reset_index()\n",
    "    \n",
    "minimum_of_all = min(len(quotes[i]) for i in range(len(quotes)))\n",
    "print(minimum_of_all)\n",
    "for i, q in enumerate(quotes):\n",
    "    diff = len(q) - minimum_of_all\n",
    "\n",
    "    while diff:\n",
    "        q = q.drop([i for i in range((len(q)//diff)-1,len(q), math.ceil(len(q)/diff))])\n",
    "        q=q.reset_index(drop=True)\n",
    "        diff = len(q)-minimum_of_all\n",
    "    quotes[i]=q\n",
    "    \n",
    "# The daily variations of the quotes are what carry the most information\n",
    "variation = np.vstack([q[\"MODAL\"] for q in quotes])"
   ]
  },
  {
   "cell_type": "code",
   "execution_count": 2,
   "id": "5761b548",
   "metadata": {},
   "outputs": [
    {
     "data": {
      "text/html": [
       "<style>#sk-container-id-1 {color: black;background-color: white;}#sk-container-id-1 pre{padding: 0;}#sk-container-id-1 div.sk-toggleable {background-color: white;}#sk-container-id-1 label.sk-toggleable__label {cursor: pointer;display: block;width: 100%;margin-bottom: 0;padding: 0.3em;box-sizing: border-box;text-align: center;}#sk-container-id-1 label.sk-toggleable__label-arrow:before {content: \"▸\";float: left;margin-right: 0.25em;color: #696969;}#sk-container-id-1 label.sk-toggleable__label-arrow:hover:before {color: black;}#sk-container-id-1 div.sk-estimator:hover label.sk-toggleable__label-arrow:before {color: black;}#sk-container-id-1 div.sk-toggleable__content {max-height: 0;max-width: 0;overflow: hidden;text-align: left;background-color: #f0f8ff;}#sk-container-id-1 div.sk-toggleable__content pre {margin: 0.2em;color: black;border-radius: 0.25em;background-color: #f0f8ff;}#sk-container-id-1 input.sk-toggleable__control:checked~div.sk-toggleable__content {max-height: 200px;max-width: 100%;overflow: auto;}#sk-container-id-1 input.sk-toggleable__control:checked~label.sk-toggleable__label-arrow:before {content: \"▾\";}#sk-container-id-1 div.sk-estimator input.sk-toggleable__control:checked~label.sk-toggleable__label {background-color: #d4ebff;}#sk-container-id-1 div.sk-label input.sk-toggleable__control:checked~label.sk-toggleable__label {background-color: #d4ebff;}#sk-container-id-1 input.sk-hidden--visually {border: 0;clip: rect(1px 1px 1px 1px);clip: rect(1px, 1px, 1px, 1px);height: 1px;margin: -1px;overflow: hidden;padding: 0;position: absolute;width: 1px;}#sk-container-id-1 div.sk-estimator {font-family: monospace;background-color: #f0f8ff;border: 1px dotted black;border-radius: 0.25em;box-sizing: border-box;margin-bottom: 0.5em;}#sk-container-id-1 div.sk-estimator:hover {background-color: #d4ebff;}#sk-container-id-1 div.sk-parallel-item::after {content: \"\";width: 100%;border-bottom: 1px solid gray;flex-grow: 1;}#sk-container-id-1 div.sk-label:hover label.sk-toggleable__label {background-color: #d4ebff;}#sk-container-id-1 div.sk-serial::before {content: \"\";position: absolute;border-left: 1px solid gray;box-sizing: border-box;top: 0;bottom: 0;left: 50%;z-index: 0;}#sk-container-id-1 div.sk-serial {display: flex;flex-direction: column;align-items: center;background-color: white;padding-right: 0.2em;padding-left: 0.2em;position: relative;}#sk-container-id-1 div.sk-item {position: relative;z-index: 1;}#sk-container-id-1 div.sk-parallel {display: flex;align-items: stretch;justify-content: center;background-color: white;position: relative;}#sk-container-id-1 div.sk-item::before, #sk-container-id-1 div.sk-parallel-item::before {content: \"\";position: absolute;border-left: 1px solid gray;box-sizing: border-box;top: 0;bottom: 0;left: 50%;z-index: -1;}#sk-container-id-1 div.sk-parallel-item {display: flex;flex-direction: column;z-index: 1;position: relative;background-color: white;}#sk-container-id-1 div.sk-parallel-item:first-child::after {align-self: flex-end;width: 50%;}#sk-container-id-1 div.sk-parallel-item:last-child::after {align-self: flex-start;width: 50%;}#sk-container-id-1 div.sk-parallel-item:only-child::after {width: 0;}#sk-container-id-1 div.sk-dashed-wrapped {border: 1px dashed gray;margin: 0 0.4em 0.5em 0.4em;box-sizing: border-box;padding-bottom: 0.4em;background-color: white;}#sk-container-id-1 div.sk-label label {font-family: monospace;font-weight: bold;display: inline-block;line-height: 1.2em;}#sk-container-id-1 div.sk-label-container {text-align: center;}#sk-container-id-1 div.sk-container {/* jupyter's `normalize.less` sets `[hidden] { display: none; }` but bootstrap.min.css set `[hidden] { display: none !important; }` so we also need the `!important` here to be able to override the default hidden behavior on the sphinx rendered scikit-learn.org. See: https://github.com/scikit-learn/scikit-learn/issues/21755 */display: inline-block !important;position: relative;}#sk-container-id-1 div.sk-text-repr-fallback {display: none;}</style><div id=\"sk-container-id-1\" class=\"sk-top-container\"><div class=\"sk-text-repr-fallback\"><pre>GraphicalLassoCV(alphas=array([ 0.03162278,  0.05994843,  0.11364637,  0.21544347,  0.40842387,\n",
       "        0.77426368,  1.46779927,  2.7825594 ,  5.27499706, 10.        ]))</pre><b>In a Jupyter environment, please rerun this cell to show the HTML representation or trust the notebook. <br />On GitHub, the HTML representation is unable to render, please try loading this page with nbviewer.org.</b></div><div class=\"sk-container\" hidden><div class=\"sk-item\"><div class=\"sk-estimator sk-toggleable\"><input class=\"sk-toggleable__control sk-hidden--visually\" id=\"sk-estimator-id-1\" type=\"checkbox\" checked><label for=\"sk-estimator-id-1\" class=\"sk-toggleable__label sk-toggleable__label-arrow\">GraphicalLassoCV</label><div class=\"sk-toggleable__content\"><pre>GraphicalLassoCV(alphas=array([ 0.03162278,  0.05994843,  0.11364637,  0.21544347,  0.40842387,\n",
       "        0.77426368,  1.46779927,  2.7825594 ,  5.27499706, 10.        ]))</pre></div></div></div></div></div>"
      ],
      "text/plain": [
       "GraphicalLassoCV(alphas=array([ 0.03162278,  0.05994843,  0.11364637,  0.21544347,  0.40842387,\n",
       "        0.77426368,  1.46779927,  2.7825594 ,  5.27499706, 10.        ]))"
      ]
     },
     "execution_count": 2,
     "metadata": {},
     "output_type": "execute_result"
    }
   ],
   "source": [
    "from sklearn import covariance\n",
    "\n",
    "alphas = np.logspace(-1.5, 1, num=10)\n",
    "edge_model = covariance.GraphicalLassoCV(alphas=alphas)\n",
    "\n",
    "# standardize the time series: using correlations rather than covariance\n",
    "# former is more efficient for structure recovery\n",
    "X = variation.copy().T\n",
    "X /= X.std(axis=0)\n",
    "edge_model.fit(X)"
   ]
  },
  {
   "cell_type": "code",
   "execution_count": 3,
   "id": "fcf5abfa",
   "metadata": {},
   "outputs": [
    {
     "data": {
      "text/html": [
       "<div>\n",
       "<style scoped>\n",
       "    .dataframe tbody tr th:only-of-type {\n",
       "        vertical-align: middle;\n",
       "    }\n",
       "\n",
       "    .dataframe tbody tr th {\n",
       "        vertical-align: top;\n",
       "    }\n",
       "\n",
       "    .dataframe thead th {\n",
       "        text-align: right;\n",
       "    }\n",
       "</style>\n",
       "<table border=\"1\" class=\"dataframe\">\n",
       "  <thead>\n",
       "    <tr style=\"text-align: right;\">\n",
       "      <th></th>\n",
       "      <th>date_arrival</th>\n",
       "      <th>Arrival</th>\n",
       "      <th>MIN</th>\n",
       "      <th>MAX</th>\n",
       "      <th>MODAL</th>\n",
       "    </tr>\n",
       "  </thead>\n",
       "  <tbody>\n",
       "    <tr>\n",
       "      <th>0</th>\n",
       "      <td>18-10-24</td>\n",
       "      <td>8.500000</td>\n",
       "      <td>2050.000000</td>\n",
       "      <td>2975.000000</td>\n",
       "      <td>2512.500000</td>\n",
       "    </tr>\n",
       "    <tr>\n",
       "      <th>1</th>\n",
       "      <td>18-10-25</td>\n",
       "      <td>17.142857</td>\n",
       "      <td>1954.571429</td>\n",
       "      <td>2747.285714</td>\n",
       "      <td>2328.714286</td>\n",
       "    </tr>\n",
       "    <tr>\n",
       "      <th>2</th>\n",
       "      <td>18-10-26</td>\n",
       "      <td>10.888889</td>\n",
       "      <td>2238.333333</td>\n",
       "      <td>2805.000000</td>\n",
       "      <td>2510.555556</td>\n",
       "    </tr>\n",
       "    <tr>\n",
       "      <th>3</th>\n",
       "      <td>18-10-28</td>\n",
       "      <td>12.500000</td>\n",
       "      <td>1950.000000</td>\n",
       "      <td>2700.000000</td>\n",
       "      <td>2300.000000</td>\n",
       "    </tr>\n",
       "    <tr>\n",
       "      <th>4</th>\n",
       "      <td>18-10-29</td>\n",
       "      <td>9.125000</td>\n",
       "      <td>2181.250000</td>\n",
       "      <td>2843.750000</td>\n",
       "      <td>2468.750000</td>\n",
       "    </tr>\n",
       "    <tr>\n",
       "      <th>...</th>\n",
       "      <td>...</td>\n",
       "      <td>...</td>\n",
       "      <td>...</td>\n",
       "      <td>...</td>\n",
       "      <td>...</td>\n",
       "    </tr>\n",
       "    <tr>\n",
       "      <th>1361</th>\n",
       "      <td>23-10-16</td>\n",
       "      <td>4.615385</td>\n",
       "      <td>3577.000000</td>\n",
       "      <td>4938.538462</td>\n",
       "      <td>4315.461538</td>\n",
       "    </tr>\n",
       "    <tr>\n",
       "      <th>1362</th>\n",
       "      <td>23-10-17</td>\n",
       "      <td>4.928571</td>\n",
       "      <td>3670.428571</td>\n",
       "      <td>4813.285714</td>\n",
       "      <td>4269.214286</td>\n",
       "    </tr>\n",
       "    <tr>\n",
       "      <th>1363</th>\n",
       "      <td>23-10-19</td>\n",
       "      <td>2.736842</td>\n",
       "      <td>3105.000000</td>\n",
       "      <td>4337.894737</td>\n",
       "      <td>3701.578947</td>\n",
       "    </tr>\n",
       "    <tr>\n",
       "      <th>1364</th>\n",
       "      <td>23-10-20</td>\n",
       "      <td>3.944444</td>\n",
       "      <td>3661.277778</td>\n",
       "      <td>4389.055556</td>\n",
       "      <td>4022.611111</td>\n",
       "    </tr>\n",
       "    <tr>\n",
       "      <th>1365</th>\n",
       "      <td>23-10-21</td>\n",
       "      <td>6.600000</td>\n",
       "      <td>3756.700000</td>\n",
       "      <td>4626.700000</td>\n",
       "      <td>4191.800000</td>\n",
       "    </tr>\n",
       "  </tbody>\n",
       "</table>\n",
       "<p>1366 rows × 5 columns</p>\n",
       "</div>"
      ],
      "text/plain": [
       "     date_arrival    Arrival          MIN          MAX        MODAL\n",
       "0        18-10-24   8.500000  2050.000000  2975.000000  2512.500000\n",
       "1        18-10-25  17.142857  1954.571429  2747.285714  2328.714286\n",
       "2        18-10-26  10.888889  2238.333333  2805.000000  2510.555556\n",
       "3        18-10-28  12.500000  1950.000000  2700.000000  2300.000000\n",
       "4        18-10-29   9.125000  2181.250000  2843.750000  2468.750000\n",
       "...           ...        ...          ...          ...          ...\n",
       "1361     23-10-16   4.615385  3577.000000  4938.538462  4315.461538\n",
       "1362     23-10-17   4.928571  3670.428571  4813.285714  4269.214286\n",
       "1363     23-10-19   2.736842  3105.000000  4337.894737  3701.578947\n",
       "1364     23-10-20   3.944444  3661.277778  4389.055556  4022.611111\n",
       "1365     23-10-21   6.600000  3756.700000  4626.700000  4191.800000\n",
       "\n",
       "[1366 rows x 5 columns]"
      ]
     },
     "execution_count": 3,
     "metadata": {},
     "output_type": "execute_result"
    }
   ],
   "source": [
    "quotes[3]"
   ]
  },
  {
   "cell_type": "code",
   "execution_count": 4,
   "id": "aa979929",
   "metadata": {},
   "outputs": [
    {
     "name": "stdout",
     "output_type": "stream",
     "text": [
      "[0 0 2 0 1 2]\n",
      "Cluster 1: Apple2018-23, Ginger2018-23, Beans2018-23\n",
      "Cluster 2: Drumstick2018-23\n",
      "Cluster 3: Arecanut2018-23, Coconut2018-23\n"
     ]
    }
   ],
   "source": [
    "from sklearn import cluster\n",
    "\n",
    "_, labels = cluster.affinity_propagation(edge_model.covariance_, random_state=0)\n",
    "n_labels = labels.max()\n",
    "\n",
    "names= np.array(symbols)\n",
    "print(labels)\n",
    "for i in range(n_labels + 1):\n",
    "    print(f\"Cluster {i + 1}: {', '.join(names[labels == i])}\")"
   ]
  },
  {
   "cell_type": "code",
   "execution_count": 5,
   "id": "a92ebd1d",
   "metadata": {},
   "outputs": [],
   "source": [
    "from sklearn import manifold\n",
    "\n",
    "node_position_model = manifold.LocallyLinearEmbedding(\n",
    "    n_components=2, eigen_solver=\"dense\", n_neighbors=2\n",
    ")\n",
    "\n",
    "embedding = node_position_model.fit_transform(X.T).T"
   ]
  },
  {
   "cell_type": "code",
   "execution_count": 6,
   "id": "15877add",
   "metadata": {},
   "outputs": [
    {
     "data": {
      "image/png": "[encoded data removed]",
      "text/plain": [
       "<Figure size 1000x800 with 1 Axes>"
      ]
     },
     "metadata": {},
     "output_type": "display_data"
    }
   ],
   "source": [
    "import matplotlib.pyplot as plt\n",
    "from matplotlib.collections import LineCollection\n",
    "\n",
    "plt.figure(1, facecolor=\"w\", figsize=(10, 8))\n",
    "plt.clf()\n",
    "ax = plt.axes([0.0, 0.0, 1.0, 1.0])\n",
    "plt.axis(\"off\")\n",
    "\n",
    "# Plot the graph of partial correlations\n",
    "partial_correlations = edge_model.precision_.copy()\n",
    "d = 1 / np.sqrt(np.diag(partial_correlations))\n",
    "partial_correlations *= d\n",
    "partial_correlations *= d[:, np.newaxis]\n",
    "non_zero = np.abs(np.triu(partial_correlations, k=1)) > 0.02\n",
    "\n",
    "# Plot the nodes using the coordinates of our embedding\n",
    "plt.scatter(\n",
    "    embedding[0], embedding[1], s=100 * d**2, c=labels, cmap=plt.cm.nipy_spectral\n",
    ")\n",
    "\n",
    "# Plot the edges\n",
    "start_idx, end_idx = np.where(non_zero)\n",
    "# a sequence of (*line0*, *line1*, *line2*), where::\n",
    "#            linen = (x0, y0), (x1, y1), ... (xm, ym)\n",
    "segments = [\n",
    "    [embedding[:, start], embedding[:, stop]] for start, stop in zip(start_idx, end_idx)\n",
    "]\n",
    "values = np.abs(partial_correlations[non_zero])\n",
    "lc = LineCollection(\n",
    "    segments, zorder=0, cmap=plt.cm.hot_r, norm=plt.Normalize(0, 0.7 * values.max())\n",
    ")\n",
    "lc.set_array(values)\n",
    "lc.set_linewidths(15 * values)\n",
    "ax.add_collection(lc)\n",
    "\n",
    "# Add a label to each node. The challenge here is that we want to\n",
    "# position the labels to avoid overlap with other labels\n",
    "for index, (name, label, (x, y)) in enumerate(zip(names, labels, embedding.T)):\n",
    "    dx = x - embedding[0]\n",
    "    dx[index] = 1\n",
    "    dy = y - embedding[1]\n",
    "    dy[index] = 1\n",
    "    this_dx = dx[np.argmin(np.abs(dy))]\n",
    "    this_dy = dy[np.argmin(np.abs(dx))]\n",
    "    if this_dx > 0:\n",
    "        horizontalalignment = \"left\"\n",
    "        x = x + 0.002\n",
    "    else:\n",
    "        horizontalalignment = \"right\"\n",
    "        x = x - 0.002\n",
    "    if this_dy > 0:\n",
    "        verticalalignment = \"bottom\"\n",
    "        y = y + 0.002\n",
    "    else:\n",
    "        verticalalignment = \"top\"\n",
    "        y = y - 0.002\n",
    "    plt.text(\n",
    "        x,\n",
    "        y,\n",
    "        name,\n",
    "        size=10,\n",
    "        horizontalalignment=horizontalalignment,\n",
    "        verticalalignment=verticalalignment,\n",
    "        bbox=dict(\n",
    "            facecolor=\"w\",\n",
    "            edgecolor=plt.cm.nipy_spectral(label / float(n_labels)),\n",
    "            alpha=0.6,\n",
    "        ),\n",
    "    )\n",
    "\n",
    "plt.xlim(\n",
    "    embedding[0].min() - 0.15 * embedding[0].ptp(),\n",
    "    embedding[0].max() + 0.10 * embedding[0].ptp(),\n",
    ")\n",
    "plt.ylim(\n",
    "    embedding[1].min() - 0.03 * embedding[1].ptp(),\n",
    "    embedding[1].max() + 0.03 * embedding[1].ptp(),\n",
    ")\n",
    "\n",
    "plt.show()"
   ]
  },
  {
   "cell_type": "code",
   "execution_count": null,
   "id": "a7c1f994",
   "metadata": {},
   "outputs": [],
   "source": []
  },
  {
   "cell_type": "code",
   "execution_count": null,
   "id": "46098a9e-c608-48a6-bfb0-a9dfadae6b09",
   "metadata": {},
   "outputs": [],
   "source": []
  },
  {
   "cell_type": "code",
   "execution_count": null,
   "id": "ac579041-4d33-49f2-8830-46e82d334c41",
   "metadata": {},
   "outputs": [],
   "source": []
  }
 ],
 "metadata": {
  "kernelspec": {
   "display_name": "Python 3 (ipykernel)",
   "language": "python",
   "name": "python3"
  },
  "language_info": {
   "codemirror_mode": {
    "name": "ipython",
    "version": 3
   },
   "file_extension": ".py",
   "mimetype": "text/x-python",
   "name": "python",
   "nbconvert_exporter": "python",
   "pygments_lexer": "ipython3",
   "version": "3.11.4"
  }
 },
 "nbformat": 4,
 "nbformat_minor": 5
}
